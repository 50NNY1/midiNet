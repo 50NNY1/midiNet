{
  "nbformat": 4,
  "nbformat_minor": 0,
  "metadata": {
    "colab": {
      "provenance": []
    },
    "kernelspec": {
      "name": "python3",
      "display_name": "Python 3"
    },
    "language_info": {
      "name": "python"
    },
    "accelerator": "GPU",
    "gpuClass": "standard"
  },
  "cells": [
    {
      "cell_type": "code",
      "source": [
        "from google.colab import drive\n",
        "\n",
        "drive.mount('/content/gdrive/')"
      ],
      "metadata": {
        "colab": {
          "base_uri": "https://localhost:8080/"
        },
        "id": "jXgYL5Ui21Gf",
        "outputId": "38f0bd3b-38ec-4735-c15a-3da0ae1ab71b"
      },
      "execution_count": 1,
      "outputs": [
        {
          "output_type": "stream",
          "name": "stdout",
          "text": [
            "Mounted at /content/gdrive/\n"
          ]
        }
      ]
    },
    {
      "cell_type": "code",
      "execution_count": 2,
      "metadata": {
        "colab": {
          "base_uri": "https://localhost:8080/"
        },
        "id": "lFh8Zva7GFr7",
        "outputId": "fd067db1-2d99-41bf-8dca-2c8e06b668bd"
      },
      "outputs": [
        {
          "output_type": "stream",
          "name": "stdout",
          "text": [
            "Looking in indexes: https://pypi.org/simple, https://us-python.pkg.dev/colab-wheels/public/simple/\n",
            "Collecting mido\n",
            "  Downloading mido-1.2.10-py2.py3-none-any.whl (51 kB)\n",
            "\u001b[2K     \u001b[90m━━━━━━━━━━━━━━━━━━━━━━━━━━━━━━━━━━━━━━━━\u001b[0m \u001b[32m51.1/51.1 KB\u001b[0m \u001b[31m5.5 MB/s\u001b[0m eta \u001b[36m0:00:00\u001b[0m\n",
            "\u001b[?25hInstalling collected packages: mido\n",
            "Successfully installed mido-1.2.10\n",
            "496\n"
          ]
        }
      ],
      "source": [
        "#store midi files as numpy arrays inside dict for easy iteration and look-up\n",
        "!pip install mido\n",
        "import os\n",
        "import mido\n",
        "import numpy as np\n",
        "\n",
        "folder_path = 'gdrive/MyDrive/GOLDSMITHS/year 3/dandml/midi_pack'\n",
        "midi_files = [f for f in os.listdir(folder_path)]\n",
        "midi_list = []\n",
        "\n",
        "for file in midi_files:\n",
        "    sequence = np.zeros((8,8))\n",
        "    midi = mido.MidiFile(f'{folder_path}/{file}')\n",
        "    step = 0\n",
        "    for track in midi.tracks:\n",
        "        for msg in track:\n",
        "            if msg.type == 'note_on':\n",
        "                note = msg.note\n",
        "                sequence[step%8][(note-4)%8] = 1\n",
        "                step += 1\n",
        "            elif msg.type == 'note_off':\n",
        "                note = msg.note\n",
        "                sequence[step%8][(note-4)%8] = 0\n",
        "                step += 1\n",
        "    midi_list.append(sequence)\n",
        "print(len(midi_list))\n"
      ]
    },
    {
      "cell_type": "code",
      "source": [
        "y_train = []\n",
        "x_train = []\n",
        "\n",
        "for i, midi in enumerate(midi_list):\n",
        "  if i % 2 == 0:\n",
        "    x_train.append(midi)\n",
        "  elif i % 2 == 1:\n",
        "    y_train.append(midi)\n",
        "print(len(x_train))\n",
        "print(len(y_train))\n"
      ],
      "metadata": {
        "id": "4DpjeIvSGHxy",
        "colab": {
          "base_uri": "https://localhost:8080/"
        },
        "outputId": "64ee5986-2abd-4613-e9d2-20c5573f87a0"
      },
      "execution_count": 3,
      "outputs": [
        {
          "output_type": "stream",
          "name": "stdout",
          "text": [
            "248\n",
            "248\n"
          ]
        }
      ]
    },
    {
      "cell_type": "code",
      "source": [
        "import tensorflow as tf\n",
        "from tensorflow import keras\n",
        "from tensorflow.keras import layers"
      ],
      "metadata": {
        "id": "ZiIPPL63HVgy"
      },
      "execution_count": 4,
      "outputs": []
    },
    {
      "cell_type": "code",
      "source": [
        "test_cap = round((len(x_train) * 0.2))\n",
        "print(test_cap)\n",
        "\n",
        "x_test, y_test = x_train[0:test_cap], y_train[0:test_cap]\n",
        "x_train, y_train = x_train[test_cap:], y_train[test_cap:]\n",
        "print(len(x_train))\n",
        "print(len(y_train))"
      ],
      "metadata": {
        "colab": {
          "base_uri": "https://localhost:8080/"
        },
        "id": "LkL0aUEJHgR6",
        "outputId": "e9a02b35-8130-428e-9c53-e0d0951b3774"
      },
      "execution_count": 6,
      "outputs": [
        {
          "output_type": "stream",
          "name": "stdout",
          "text": [
            "50\n",
            "198\n",
            "198\n"
          ]
        }
      ]
    },
    {
      "cell_type": "code",
      "source": [
        "import random\n",
        "x_augment = []\n",
        "y_augment = []\n",
        "for arr in x_train:\n",
        "  choice = random.randint(1, 3)\n",
        "  if choice == 1:\n",
        "    x_augment.append(np.flip(arr))\n",
        "  elif choice == 2:\n",
        "    x_augment.append(np.flip(arr, 1))\n",
        "  elif choice == 3:\n",
        "    x_augment.append(np.flip(arr, 0))\n",
        "x_train = np.concatenate((x_train, x_augment))\n",
        "for arr in y_train:\n",
        "  choice = random.randint(1, 3)\n",
        "  if choice == 1:\n",
        "    y_augment.append(np.flip(arr))\n",
        "  elif choice == 2:\n",
        "    y_augment.append(np.flip(arr, 1))\n",
        "  elif choice == 3:\n",
        "    y_augment.append(np.flip(arr, 0))\n",
        "\n",
        "y_train = np.concatenate((y_train, y_augment))\n"
      ],
      "metadata": {
        "id": "BYFIJVzEOhex"
      },
      "execution_count": 7,
      "outputs": []
    },
    {
      "cell_type": "code",
      "source": [
        "from tensorflow.keras import regularizers\n",
        "\n",
        "optimizer = keras.optimizers.Adam(learning_rate=0.001)\n",
        "\n",
        "model = keras.Sequential()\n",
        "model.add(layers.Conv2D(32, kernel_size=(4, 4), activation='linear', input_shape=(8, 8, 1)))\n",
        "model.add(layers.MaxPooling2D(pool_size=(4, 4)))\n",
        "model.add(layers.Dropout(0.25))\n",
        "model.add(layers.Flatten())\n",
        "model.add(layers.Dense(64, activation='linear', kernel_regularizer='l2'))\n",
        "model.add(layers.Dropout(0.5))\n",
        "model.add(layers.Dense(64, activation='linear', kernel_regularizer='l2'))\n",
        "model.add(layers.Dropout(0.5))\n",
        "model.add(layers.Reshape((8,8)))\n",
        "model.compile(optimizer=optimizer, loss='mse', metrics=['mae'])\n",
        "model.summary()\n",
        "\n",
        "x_train = np.array(x_train)\n",
        "y_train = np.array(y_train)\n",
        "\n",
        "K = 2\n",
        "num_val_samples = len(x_train) // K\n",
        "num_epochs = 60\n",
        "all_acc_histories = []\n",
        "all_loss_histories = []\n",
        "\n",
        "for i in range(K):\n",
        "    a, b = i * num_val_samples, (i + 1) * num_val_samples\n",
        "    x_val = x_train[a : b]\n",
        "    y_val = y_train[a : b]\n",
        "    # Prepare the training data: data from all other partitions\n",
        "    partial_train_data = np.concatenate([x_train[:a], x_train[b:]])\n",
        "    partial_train_targets = np.concatenate([y_train[:a], y_train[b:]])\n",
        "    \n",
        "    # Train the model (in silent mode, verbose=0)\n",
        "    history = model.fit(\n",
        "        partial_train_data,\n",
        "        partial_train_targets,\n",
        "        validation_data=(x_val, y_val),\n",
        "        epochs=num_epochs, batch_size=8)\n",
        "\n",
        "    accuracy_history = history.history['val_mae']\n",
        "    loss_history = history.history['loss']\n",
        "\n",
        "    all_loss_histories.append(loss_history)\n",
        "    all_acc_histories.append(loss_history)\n"
      ],
      "metadata": {
        "colab": {
          "base_uri": "https://localhost:8080/"
        },
        "id": "qzqwixe9N28a",
        "outputId": "905e7ac3-9590-48e4-d649-e99a14342410"
      },
      "execution_count": 8,
      "outputs": [
        {
          "output_type": "stream",
          "name": "stdout",
          "text": [
            "Model: \"sequential\"\n",
            "_________________________________________________________________\n",
            " Layer (type)                Output Shape              Param #   \n",
            "=================================================================\n",
            " conv2d (Conv2D)             (None, 5, 5, 32)          544       \n",
            "                                                                 \n",
            " max_pooling2d (MaxPooling2D  (None, 1, 1, 32)         0         \n",
            " )                                                               \n",
            "                                                                 \n",
            " dropout (Dropout)           (None, 1, 1, 32)          0         \n",
            "                                                                 \n",
            " flatten (Flatten)           (None, 32)                0         \n",
            "                                                                 \n",
            " dense (Dense)               (None, 64)                2112      \n",
            "                                                                 \n",
            " dropout_1 (Dropout)         (None, 64)                0         \n",
            "                                                                 \n",
            " dense_1 (Dense)             (None, 64)                4160      \n",
            "                                                                 \n",
            " dropout_2 (Dropout)         (None, 64)                0         \n",
            "                                                                 \n",
            " reshape (Reshape)           (None, 8, 8)              0         \n",
            "                                                                 \n",
            "=================================================================\n",
            "Total params: 6,816\n",
            "Trainable params: 6,816\n",
            "Non-trainable params: 0\n",
            "_________________________________________________________________\n",
            "Epoch 1/60\n",
            "25/25 [==============================] - 9s 17ms/step - loss: 1.2831 - mae: 0.3830 - val_loss: 1.1042 - val_mae: 0.3344\n",
            "Epoch 2/60\n",
            "25/25 [==============================] - 0s 6ms/step - loss: 1.0032 - mae: 0.3438 - val_loss: 0.8816 - val_mae: 0.3321\n",
            "Epoch 3/60\n",
            "25/25 [==============================] - 0s 6ms/step - loss: 0.8012 - mae: 0.3348 - val_loss: 0.7080 - val_mae: 0.3353\n",
            "Epoch 4/60\n",
            "25/25 [==============================] - 0s 6ms/step - loss: 0.6474 - mae: 0.3327 - val_loss: 0.5772 - val_mae: 0.3391\n",
            "Epoch 5/60\n",
            "25/25 [==============================] - 0s 7ms/step - loss: 0.5356 - mae: 0.3335 - val_loss: 0.4799 - val_mae: 0.3414\n",
            "Epoch 6/60\n",
            "25/25 [==============================] - 0s 7ms/step - loss: 0.4525 - mae: 0.3333 - val_loss: 0.4099 - val_mae: 0.3426\n",
            "Epoch 7/60\n",
            "25/25 [==============================] - 0s 6ms/step - loss: 0.3916 - mae: 0.3342 - val_loss: 0.3578 - val_mae: 0.3440\n",
            "Epoch 8/60\n",
            "25/25 [==============================] - 0s 6ms/step - loss: 0.3474 - mae: 0.3322 - val_loss: 0.3223 - val_mae: 0.3457\n",
            "Epoch 9/60\n",
            "25/25 [==============================] - 0s 5ms/step - loss: 0.3172 - mae: 0.3317 - val_loss: 0.2965 - val_mae: 0.3466\n",
            "Epoch 10/60\n",
            "25/25 [==============================] - 0s 6ms/step - loss: 0.2959 - mae: 0.3318 - val_loss: 0.2785 - val_mae: 0.3479\n",
            "Epoch 11/60\n",
            "25/25 [==============================] - 0s 6ms/step - loss: 0.2814 - mae: 0.3333 - val_loss: 0.2678 - val_mae: 0.3499\n",
            "Epoch 12/60\n",
            "25/25 [==============================] - 0s 6ms/step - loss: 0.2718 - mae: 0.3323 - val_loss: 0.2583 - val_mae: 0.3465\n",
            "Epoch 13/60\n",
            "25/25 [==============================] - 0s 7ms/step - loss: 0.2632 - mae: 0.3308 - val_loss: 0.2520 - val_mae: 0.3484\n",
            "Epoch 14/60\n",
            "25/25 [==============================] - 0s 7ms/step - loss: 0.2579 - mae: 0.3316 - val_loss: 0.2462 - val_mae: 0.3504\n",
            "Epoch 15/60\n",
            "25/25 [==============================] - 0s 7ms/step - loss: 0.2561 - mae: 0.3340 - val_loss: 0.2439 - val_mae: 0.3498\n",
            "Epoch 16/60\n",
            "25/25 [==============================] - 0s 5ms/step - loss: 0.2482 - mae: 0.3297 - val_loss: 0.2409 - val_mae: 0.3495\n",
            "Epoch 17/60\n",
            "25/25 [==============================] - 0s 6ms/step - loss: 0.2520 - mae: 0.3314 - val_loss: 0.2410 - val_mae: 0.3508\n",
            "Epoch 18/60\n",
            "25/25 [==============================] - 0s 6ms/step - loss: 0.2519 - mae: 0.3337 - val_loss: 0.2400 - val_mae: 0.3502\n",
            "Epoch 19/60\n",
            "25/25 [==============================] - 0s 6ms/step - loss: 0.2485 - mae: 0.3324 - val_loss: 0.2405 - val_mae: 0.3518\n",
            "Epoch 20/60\n",
            "25/25 [==============================] - 0s 7ms/step - loss: 0.2502 - mae: 0.3342 - val_loss: 0.2381 - val_mae: 0.3510\n",
            "Epoch 21/60\n",
            "25/25 [==============================] - 0s 6ms/step - loss: 0.2494 - mae: 0.3337 - val_loss: 0.2373 - val_mae: 0.3501\n",
            "Epoch 22/60\n",
            "25/25 [==============================] - 0s 6ms/step - loss: 0.2483 - mae: 0.3323 - val_loss: 0.2377 - val_mae: 0.3525\n",
            "Epoch 23/60\n",
            "25/25 [==============================] - 0s 6ms/step - loss: 0.2458 - mae: 0.3306 - val_loss: 0.2373 - val_mae: 0.3524\n",
            "Epoch 24/60\n",
            "25/25 [==============================] - 0s 6ms/step - loss: 0.2476 - mae: 0.3348 - val_loss: 0.2364 - val_mae: 0.3533\n",
            "Epoch 25/60\n",
            "25/25 [==============================] - 0s 7ms/step - loss: 0.2489 - mae: 0.3353 - val_loss: 0.2369 - val_mae: 0.3509\n",
            "Epoch 26/60\n",
            "25/25 [==============================] - 0s 6ms/step - loss: 0.2462 - mae: 0.3321 - val_loss: 0.2361 - val_mae: 0.3513\n",
            "Epoch 27/60\n",
            "25/25 [==============================] - 0s 6ms/step - loss: 0.2444 - mae: 0.3306 - val_loss: 0.2366 - val_mae: 0.3534\n",
            "Epoch 28/60\n",
            "25/25 [==============================] - 0s 5ms/step - loss: 0.2464 - mae: 0.3342 - val_loss: 0.2354 - val_mae: 0.3518\n",
            "Epoch 29/60\n",
            "25/25 [==============================] - 0s 6ms/step - loss: 0.2439 - mae: 0.3293 - val_loss: 0.2356 - val_mae: 0.3527\n",
            "Epoch 30/60\n",
            "25/25 [==============================] - 0s 6ms/step - loss: 0.2453 - mae: 0.3317 - val_loss: 0.2344 - val_mae: 0.3528\n",
            "Epoch 31/60\n",
            "25/25 [==============================] - 0s 6ms/step - loss: 0.2490 - mae: 0.3363 - val_loss: 0.2353 - val_mae: 0.3522\n",
            "Epoch 32/60\n",
            "25/25 [==============================] - 0s 5ms/step - loss: 0.2493 - mae: 0.3367 - val_loss: 0.2358 - val_mae: 0.3518\n",
            "Epoch 33/60\n",
            "25/25 [==============================] - 0s 7ms/step - loss: 0.2481 - mae: 0.3347 - val_loss: 0.2353 - val_mae: 0.3520\n",
            "Epoch 34/60\n",
            "25/25 [==============================] - 0s 6ms/step - loss: 0.2449 - mae: 0.3330 - val_loss: 0.2344 - val_mae: 0.3520\n",
            "Epoch 35/60\n",
            "25/25 [==============================] - 0s 6ms/step - loss: 0.2471 - mae: 0.3332 - val_loss: 0.2346 - val_mae: 0.3528\n",
            "Epoch 36/60\n",
            "25/25 [==============================] - 0s 6ms/step - loss: 0.2470 - mae: 0.3359 - val_loss: 0.2348 - val_mae: 0.3528\n",
            "Epoch 37/60\n",
            "25/25 [==============================] - 0s 6ms/step - loss: 0.2447 - mae: 0.3332 - val_loss: 0.2330 - val_mae: 0.3524\n",
            "Epoch 38/60\n",
            "25/25 [==============================] - 0s 6ms/step - loss: 0.2456 - mae: 0.3347 - val_loss: 0.2334 - val_mae: 0.3535\n",
            "Epoch 39/60\n",
            "25/25 [==============================] - 0s 6ms/step - loss: 0.2443 - mae: 0.3331 - val_loss: 0.2330 - val_mae: 0.3528\n",
            "Epoch 40/60\n",
            "25/25 [==============================] - 0s 6ms/step - loss: 0.2413 - mae: 0.3296 - val_loss: 0.2334 - val_mae: 0.3531\n",
            "Epoch 41/60\n",
            "25/25 [==============================] - 0s 6ms/step - loss: 0.2451 - mae: 0.3324 - val_loss: 0.2334 - val_mae: 0.3546\n",
            "Epoch 42/60\n",
            "25/25 [==============================] - 0s 6ms/step - loss: 0.2462 - mae: 0.3348 - val_loss: 0.2324 - val_mae: 0.3522\n",
            "Epoch 43/60\n",
            "25/25 [==============================] - 0s 6ms/step - loss: 0.2478 - mae: 0.3354 - val_loss: 0.2335 - val_mae: 0.3532\n",
            "Epoch 44/60\n",
            "25/25 [==============================] - 0s 7ms/step - loss: 0.2465 - mae: 0.3348 - val_loss: 0.2327 - val_mae: 0.3510\n",
            "Epoch 45/60\n",
            "25/25 [==============================] - 0s 5ms/step - loss: 0.2458 - mae: 0.3336 - val_loss: 0.2330 - val_mae: 0.3526\n",
            "Epoch 46/60\n",
            "25/25 [==============================] - 0s 6ms/step - loss: 0.2501 - mae: 0.3363 - val_loss: 0.2331 - val_mae: 0.3524\n",
            "Epoch 47/60\n",
            "25/25 [==============================] - 0s 5ms/step - loss: 0.2476 - mae: 0.3354 - val_loss: 0.2328 - val_mae: 0.3519\n",
            "Epoch 48/60\n",
            "25/25 [==============================] - 0s 5ms/step - loss: 0.2462 - mae: 0.3358 - val_loss: 0.2327 - val_mae: 0.3532\n",
            "Epoch 49/60\n",
            "25/25 [==============================] - 0s 6ms/step - loss: 0.2458 - mae: 0.3358 - val_loss: 0.2336 - val_mae: 0.3543\n",
            "Epoch 50/60\n",
            "25/25 [==============================] - 0s 5ms/step - loss: 0.2446 - mae: 0.3339 - val_loss: 0.2325 - val_mae: 0.3533\n",
            "Epoch 51/60\n",
            "25/25 [==============================] - 0s 5ms/step - loss: 0.2435 - mae: 0.3338 - val_loss: 0.2318 - val_mae: 0.3532\n",
            "Epoch 52/60\n",
            "25/25 [==============================] - 0s 6ms/step - loss: 0.2448 - mae: 0.3331 - val_loss: 0.2310 - val_mae: 0.3534\n",
            "Epoch 53/60\n",
            "25/25 [==============================] - 0s 7ms/step - loss: 0.2480 - mae: 0.3367 - val_loss: 0.2314 - val_mae: 0.3514\n",
            "Epoch 54/60\n",
            "25/25 [==============================] - 0s 6ms/step - loss: 0.2459 - mae: 0.3356 - val_loss: 0.2325 - val_mae: 0.3523\n",
            "Epoch 55/60\n",
            "25/25 [==============================] - 0s 6ms/step - loss: 0.2456 - mae: 0.3326 - val_loss: 0.2333 - val_mae: 0.3527\n",
            "Epoch 56/60\n",
            "25/25 [==============================] - 0s 6ms/step - loss: 0.2431 - mae: 0.3307 - val_loss: 0.2301 - val_mae: 0.3521\n",
            "Epoch 57/60\n",
            "25/25 [==============================] - 0s 6ms/step - loss: 0.2467 - mae: 0.3370 - val_loss: 0.2319 - val_mae: 0.3536\n",
            "Epoch 58/60\n",
            "25/25 [==============================] - 0s 5ms/step - loss: 0.2466 - mae: 0.3368 - val_loss: 0.2320 - val_mae: 0.3522\n",
            "Epoch 59/60\n",
            "25/25 [==============================] - 0s 6ms/step - loss: 0.2454 - mae: 0.3345 - val_loss: 0.2317 - val_mae: 0.3529\n",
            "Epoch 60/60\n",
            "25/25 [==============================] - 0s 6ms/step - loss: 0.2489 - mae: 0.3361 - val_loss: 0.2320 - val_mae: 0.3525\n",
            "Epoch 1/60\n",
            "25/25 [==============================] - 0s 7ms/step - loss: 0.2574 - mae: 0.3459 - val_loss: 0.2251 - val_mae: 0.3449\n",
            "Epoch 2/60\n",
            "25/25 [==============================] - 0s 7ms/step - loss: 0.2402 - mae: 0.3147 - val_loss: 0.2428 - val_mae: 0.3518\n",
            "Epoch 3/60\n",
            "25/25 [==============================] - 0s 5ms/step - loss: 0.2356 - mae: 0.3070 - val_loss: 0.2378 - val_mae: 0.3526\n",
            "Epoch 4/60\n",
            "25/25 [==============================] - 0s 6ms/step - loss: 0.2353 - mae: 0.3104 - val_loss: 0.2392 - val_mae: 0.3538\n",
            "Epoch 5/60\n",
            "25/25 [==============================] - 0s 6ms/step - loss: 0.2347 - mae: 0.3099 - val_loss: 0.2340 - val_mae: 0.3483\n",
            "Epoch 6/60\n",
            "25/25 [==============================] - 0s 5ms/step - loss: 0.2360 - mae: 0.3090 - val_loss: 0.2408 - val_mae: 0.3538\n",
            "Epoch 7/60\n",
            "25/25 [==============================] - 0s 6ms/step - loss: 0.2350 - mae: 0.3071 - val_loss: 0.2364 - val_mae: 0.3505\n",
            "Epoch 8/60\n",
            "25/25 [==============================] - 0s 6ms/step - loss: 0.2334 - mae: 0.3098 - val_loss: 0.2384 - val_mae: 0.3523\n",
            "Epoch 9/60\n",
            "25/25 [==============================] - 0s 6ms/step - loss: 0.2322 - mae: 0.3053 - val_loss: 0.2363 - val_mae: 0.3494\n",
            "Epoch 10/60\n",
            "25/25 [==============================] - 0s 6ms/step - loss: 0.2318 - mae: 0.3037 - val_loss: 0.2397 - val_mae: 0.3520\n",
            "Epoch 11/60\n",
            "25/25 [==============================] - 0s 6ms/step - loss: 0.2339 - mae: 0.3098 - val_loss: 0.2365 - val_mae: 0.3503\n",
            "Epoch 12/60\n",
            "25/25 [==============================] - 0s 6ms/step - loss: 0.2339 - mae: 0.3060 - val_loss: 0.2372 - val_mae: 0.3515\n",
            "Epoch 13/60\n",
            "25/25 [==============================] - 0s 5ms/step - loss: 0.2316 - mae: 0.3061 - val_loss: 0.2369 - val_mae: 0.3513\n",
            "Epoch 14/60\n",
            "25/25 [==============================] - 0s 5ms/step - loss: 0.2308 - mae: 0.3062 - val_loss: 0.2383 - val_mae: 0.3544\n",
            "Epoch 15/60\n",
            "25/25 [==============================] - 0s 5ms/step - loss: 0.2330 - mae: 0.3065 - val_loss: 0.2361 - val_mae: 0.3530\n",
            "Epoch 16/60\n",
            "25/25 [==============================] - 0s 6ms/step - loss: 0.2334 - mae: 0.3094 - val_loss: 0.2386 - val_mae: 0.3517\n",
            "Epoch 17/60\n",
            "25/25 [==============================] - 0s 5ms/step - loss: 0.2323 - mae: 0.3059 - val_loss: 0.2384 - val_mae: 0.3542\n",
            "Epoch 18/60\n",
            "25/25 [==============================] - 0s 6ms/step - loss: 0.2334 - mae: 0.3083 - val_loss: 0.2373 - val_mae: 0.3513\n",
            "Epoch 19/60\n",
            "25/25 [==============================] - 0s 6ms/step - loss: 0.2273 - mae: 0.3007 - val_loss: 0.2378 - val_mae: 0.3529\n",
            "Epoch 20/60\n",
            "25/25 [==============================] - 0s 5ms/step - loss: 0.2293 - mae: 0.3042 - val_loss: 0.2364 - val_mae: 0.3520\n",
            "Epoch 21/60\n",
            "25/25 [==============================] - 0s 6ms/step - loss: 0.2278 - mae: 0.3039 - val_loss: 0.2368 - val_mae: 0.3532\n",
            "Epoch 22/60\n",
            "25/25 [==============================] - 0s 6ms/step - loss: 0.2304 - mae: 0.3039 - val_loss: 0.2375 - val_mae: 0.3510\n",
            "Epoch 23/60\n",
            "25/25 [==============================] - 0s 5ms/step - loss: 0.2364 - mae: 0.3091 - val_loss: 0.2373 - val_mae: 0.3513\n",
            "Epoch 24/60\n",
            "25/25 [==============================] - 0s 6ms/step - loss: 0.2324 - mae: 0.3071 - val_loss: 0.2387 - val_mae: 0.3542\n",
            "Epoch 25/60\n",
            "25/25 [==============================] - 0s 6ms/step - loss: 0.2328 - mae: 0.3070 - val_loss: 0.2391 - val_mae: 0.3528\n",
            "Epoch 26/60\n",
            "25/25 [==============================] - 0s 6ms/step - loss: 0.2336 - mae: 0.3050 - val_loss: 0.2381 - val_mae: 0.3520\n",
            "Epoch 27/60\n",
            "25/25 [==============================] - 0s 5ms/step - loss: 0.2296 - mae: 0.3042 - val_loss: 0.2401 - val_mae: 0.3525\n",
            "Epoch 28/60\n",
            "25/25 [==============================] - 0s 6ms/step - loss: 0.2296 - mae: 0.3034 - val_loss: 0.2371 - val_mae: 0.3532\n",
            "Epoch 29/60\n",
            "25/25 [==============================] - 0s 6ms/step - loss: 0.2331 - mae: 0.3090 - val_loss: 0.2392 - val_mae: 0.3526\n",
            "Epoch 30/60\n",
            "25/25 [==============================] - 0s 6ms/step - loss: 0.2310 - mae: 0.3042 - val_loss: 0.2376 - val_mae: 0.3529\n",
            "Epoch 31/60\n",
            "25/25 [==============================] - 0s 5ms/step - loss: 0.2297 - mae: 0.3070 - val_loss: 0.2386 - val_mae: 0.3532\n",
            "Epoch 32/60\n",
            "25/25 [==============================] - 0s 6ms/step - loss: 0.2287 - mae: 0.3035 - val_loss: 0.2377 - val_mae: 0.3519\n",
            "Epoch 33/60\n",
            "25/25 [==============================] - 0s 6ms/step - loss: 0.2315 - mae: 0.3055 - val_loss: 0.2387 - val_mae: 0.3528\n",
            "Epoch 34/60\n",
            "25/25 [==============================] - 0s 6ms/step - loss: 0.2276 - mae: 0.3011 - val_loss: 0.2369 - val_mae: 0.3542\n",
            "Epoch 35/60\n",
            "25/25 [==============================] - 0s 6ms/step - loss: 0.2325 - mae: 0.3055 - val_loss: 0.2389 - val_mae: 0.3543\n",
            "Epoch 36/60\n",
            "25/25 [==============================] - 0s 6ms/step - loss: 0.2307 - mae: 0.3069 - val_loss: 0.2383 - val_mae: 0.3526\n",
            "Epoch 37/60\n",
            "25/25 [==============================] - 0s 5ms/step - loss: 0.2307 - mae: 0.3035 - val_loss: 0.2374 - val_mae: 0.3524\n",
            "Epoch 38/60\n",
            "25/25 [==============================] - 0s 7ms/step - loss: 0.2338 - mae: 0.3087 - val_loss: 0.2394 - val_mae: 0.3528\n",
            "Epoch 39/60\n",
            "25/25 [==============================] - 0s 7ms/step - loss: 0.2271 - mae: 0.3013 - val_loss: 0.2382 - val_mae: 0.3534\n",
            "Epoch 40/60\n",
            "25/25 [==============================] - 0s 5ms/step - loss: 0.2298 - mae: 0.3037 - val_loss: 0.2392 - val_mae: 0.3526\n",
            "Epoch 41/60\n",
            "25/25 [==============================] - 0s 5ms/step - loss: 0.2289 - mae: 0.3024 - val_loss: 0.2388 - val_mae: 0.3551\n",
            "Epoch 42/60\n",
            "25/25 [==============================] - 0s 7ms/step - loss: 0.2302 - mae: 0.3051 - val_loss: 0.2387 - val_mae: 0.3528\n",
            "Epoch 43/60\n",
            "25/25 [==============================] - 0s 5ms/step - loss: 0.2291 - mae: 0.3015 - val_loss: 0.2380 - val_mae: 0.3533\n",
            "Epoch 44/60\n",
            "25/25 [==============================] - 0s 6ms/step - loss: 0.2290 - mae: 0.3044 - val_loss: 0.2373 - val_mae: 0.3543\n",
            "Epoch 45/60\n",
            "25/25 [==============================] - 0s 6ms/step - loss: 0.2311 - mae: 0.3042 - val_loss: 0.2397 - val_mae: 0.3516\n",
            "Epoch 46/60\n",
            "25/25 [==============================] - 0s 6ms/step - loss: 0.2309 - mae: 0.3048 - val_loss: 0.2389 - val_mae: 0.3535\n",
            "Epoch 47/60\n",
            "25/25 [==============================] - 0s 6ms/step - loss: 0.2300 - mae: 0.3048 - val_loss: 0.2390 - val_mae: 0.3545\n",
            "Epoch 48/60\n",
            "25/25 [==============================] - 0s 5ms/step - loss: 0.2313 - mae: 0.3045 - val_loss: 0.2384 - val_mae: 0.3529\n",
            "Epoch 49/60\n",
            "25/25 [==============================] - 0s 7ms/step - loss: 0.2313 - mae: 0.3068 - val_loss: 0.2394 - val_mae: 0.3532\n",
            "Epoch 50/60\n",
            "25/25 [==============================] - 0s 5ms/step - loss: 0.2330 - mae: 0.3058 - val_loss: 0.2395 - val_mae: 0.3538\n",
            "Epoch 51/60\n",
            "25/25 [==============================] - 0s 6ms/step - loss: 0.2304 - mae: 0.3055 - val_loss: 0.2385 - val_mae: 0.3532\n",
            "Epoch 52/60\n",
            "25/25 [==============================] - 0s 6ms/step - loss: 0.2318 - mae: 0.3030 - val_loss: 0.2406 - val_mae: 0.3530\n",
            "Epoch 53/60\n",
            "25/25 [==============================] - 0s 6ms/step - loss: 0.2249 - mae: 0.3001 - val_loss: 0.2383 - val_mae: 0.3539\n",
            "Epoch 54/60\n",
            "25/25 [==============================] - 0s 6ms/step - loss: 0.2275 - mae: 0.2986 - val_loss: 0.2389 - val_mae: 0.3537\n",
            "Epoch 55/60\n",
            "25/25 [==============================] - 0s 6ms/step - loss: 0.2279 - mae: 0.3012 - val_loss: 0.2384 - val_mae: 0.3546\n",
            "Epoch 56/60\n",
            "25/25 [==============================] - 0s 6ms/step - loss: 0.2299 - mae: 0.3054 - val_loss: 0.2374 - val_mae: 0.3535\n",
            "Epoch 57/60\n",
            "25/25 [==============================] - 0s 7ms/step - loss: 0.2296 - mae: 0.3051 - val_loss: 0.2382 - val_mae: 0.3527\n",
            "Epoch 58/60\n",
            "25/25 [==============================] - 0s 6ms/step - loss: 0.2307 - mae: 0.3047 - val_loss: 0.2389 - val_mae: 0.3539\n",
            "Epoch 59/60\n",
            "25/25 [==============================] - 0s 6ms/step - loss: 0.2278 - mae: 0.3010 - val_loss: 0.2391 - val_mae: 0.3534\n",
            "Epoch 60/60\n",
            "25/25 [==============================] - 0s 6ms/step - loss: 0.2331 - mae: 0.3054 - val_loss: 0.2402 - val_mae: 0.3529\n"
          ]
        }
      ]
    },
    {
      "cell_type": "code",
      "source": [
        "import matplotlib.pyplot as plt\n",
        "average_acc_history = np.array(all_acc_histories).mean(axis=0)\n",
        "plt.plot(range(1, len(average_acc_history) + 1), average_acc_history)\n",
        "plt.xlabel('Epochs')\n",
        "plt.ylabel('Validation MAE')\n",
        "plt.show()\n",
        "\n",
        "average_loss_history = np.array(all_loss_histories).mean(axis=0)\n",
        "plt.plot(range(1, len(history.history['loss']) + 1), history.history['loss'])\n",
        "plt.xlabel('Epochs')\n",
        "plt.ylabel('Loss')\n",
        "plt.show()\n",
        "\n",
        "x_test = np.array(x_test)\n",
        "y_test = np.array(y_test)\n",
        "\n",
        "result = model.evaluate(x_test, y_test)\n",
        "for i in range(len(result)):\n",
        "    print(f'{model.metrics_names[i]} — -> {result[i]}')"
      ],
      "metadata": {
        "id": "rVXjpXYVWa3x",
        "colab": {
          "base_uri": "https://localhost:8080/",
          "height": 596
        },
        "outputId": "989845e8-fb38-44b8-aea2-2b20ed90e635"
      },
      "execution_count": 9,
      "outputs": [
        {
          "output_type": "display_data",
          "data": {
            "text/plain": [
              "<Figure size 432x288 with 1 Axes>"
            ],
            "image/png": "[encoded data removed]"
          },
          "metadata": {
            "needs_background": "light"
          }
        },
        {
          "output_type": "display_data",
          "data": {
            "text/plain": [
              "<Figure size 432x288 with 1 Axes>"
            ],
            "image/png": "[encoded data removed]"
          },
          "metadata": {
            "needs_background": "light"
          }
        },
        {
          "output_type": "stream",
          "name": "stdout",
          "text": [
            "2/2 [==============================] - 0s 17ms/step - loss: 0.2023 - mae: 0.3151\n",
            "loss — -> 0.2023424357175827\n",
            "mae — -> 0.3150600790977478\n"
          ]
        }
      ]
    },
    {
      "cell_type": "code",
      "source": [
        "from keras.models import load_model\n",
        "from google.colab import files\n",
        "\n",
        "model.save('model.h5')\n",
        "files.download('model.h5')"
      ],
      "metadata": {
        "id": "NjPQfXMZgDUF"
      },
      "execution_count": null,
      "outputs": []
    },
    {
      "cell_type": "code",
      "source": [
        "#using the model to create predictions for the drum model\n",
        "\n",
        "arr = [[[1., 0., 0., 0., 0., 1., 0., 0.],\n",
        "  [0., 0., 1., 0., 0., 0., 1., 0.],\n",
        "  [0., 0., 0., 0., 0., 1., 0., 0.,],\n",
        "  [0., 0., 0., 0., 0., 0., 1., 0.],\n",
        "  [0., 0., 0., 0., 0., 1., 0., 0.],\n",
        "  [0., 0., 0., 0., 0., 0., 0., 1.],\n",
        "  [0., 0., 0., 0., 0., 1., 0., 0.],\n",
        "  [0., 0., 0., 0., 0., 0., 0., 1.]]]\n",
        "\n",
        "myarr = np.array(arr).astype(float)\n",
        "pred = model.predict(myarr.reshape(1,8,8))\n",
        "\n",
        "min_val = np.min(pred)\n",
        "max_val = np.max(pred)\n",
        "range_val = max_val - min_val\n",
        "scaled_arr = (pred - min_val) / range_val\n",
        "rounded_arr = np.round(scaled_arr)\n",
        "print(rounded_arr.astype(bool))"
      ],
      "metadata": {
        "colab": {
          "base_uri": "https://localhost:8080/"
        },
        "id": "2MvPfolorGq9",
        "outputId": "b1ea1f65-1f26-4d0e-8030-4aa117374caf"
      },
      "execution_count": 23,
      "outputs": [
        {
          "output_type": "stream",
          "name": "stdout",
          "text": [
            "1/1 [==============================] - 0s 42ms/step\n",
            "[[[ True False  True False False False False False]\n",
            "  [ True False  True False False False False False]\n",
            "  [ True False  True False False False False False]\n",
            "  [ True False  True False False False False False]\n",
            "  [ True False  True False False False False False]\n",
            "  [ True False  True False False False False False]\n",
            "  [ True False  True False False False False False]\n",
            "  [ True False  True False False False False False]]]\n"
          ]
        }
      ]
    },
    {
      "cell_type": "code",
      "source": [],
      "metadata": {
        "id": "Ih21qs98sPcf"
      },
      "execution_count": null,
      "outputs": []
    }
  ]
}