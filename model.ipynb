{
 "cells": [
  {
   "cell_type": "code",
   "execution_count": 36,
   "metadata": {},
   "outputs": [
    {
     "data": {
      "text/plain": [
       "dict_keys(['y4', 'x1', 'y5', 'x3', 'y7', 'y6', 'x2', 'x6', 'y2', 'y3', 'x7', 'y1', 'x5', 'x4', 'y13', 'y12', 'y10', 'y11', 'y15', 'y14', 'y16', 'x10', 'x9', 'x8', 'x11', 'x13', 'x12', 'x16', 'x15', 'y8', 'y9', 'x14'])"
      ]
     },
     "execution_count": 36,
     "metadata": {},
     "output_type": "execute_result"
    }
   ],
   "source": [
    "import os\n",
    "import mido\n",
    "import numpy as np\n",
    "\n",
    "folder_path = 'midi_files'\n",
    "midi_files = [f for f in os.listdir(folder_path)]\n",
    "midi_dict = {}\n",
    "\n",
    "for file in midi_files:\n",
    "    sequence = np.zeros((8,8))\n",
    "    midi = mido.MidiFile(f'{folder_path}/{file}')\n",
    "    step = 0\n",
    "    for track in midi.tracks:\n",
    "        for msg in track:\n",
    "            if msg.type == 'note_on':\n",
    "                note = msg.note\n",
    "                sequence[step%8][(note-4)%8] = 1\n",
    "                step += 1\n",
    "            elif msg.type == 'note_off':\n",
    "                note = msg.note\n",
    "                sequence[step%8][(note-4)%8] = 0\n",
    "                step += 1\n",
    "    midi_dict[os.path.splitext(file)[0]] = sequence\n",
    "midi_dict.keys()"
   ]
  },
  {
   "cell_type": "code",
   "execution_count": null,
   "metadata": {},
   "outputs": [],
   "source": []
  },
  {
   "cell_type": "code",
   "execution_count": null,
   "metadata": {},
   "outputs": [],
   "source": []
  }
 ],
 "metadata": {
  "kernelspec": {
   "display_name": "dandml",
   "language": "python",
   "name": "python3"
  },
  "language_info": {
   "codemirror_mode": {
    "name": "ipython",
    "version": 3
   },
   "file_extension": ".py",
   "mimetype": "text/x-python",
   "name": "python",
   "nbconvert_exporter": "python",
   "pygments_lexer": "ipython3",
   "version": "3.10.8"
  },
  "orig_nbformat": 4,
  "vscode": {
   "interpreter": {
    "hash": "da6fbcc5632331ae1f3d11f6ef536c17f8e8a266669f7075b88c39a511dd3c53"
   }
  }
 },
 "nbformat": 4,
 "nbformat_minor": 2
}
